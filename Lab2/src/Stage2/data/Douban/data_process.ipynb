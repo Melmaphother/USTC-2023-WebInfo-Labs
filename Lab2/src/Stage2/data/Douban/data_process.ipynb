{
 "cells": [
  {
   "cell_type": "code",
   "execution_count": 3,
   "metadata": {},
   "outputs": [
    {
     "name": "stdout",
     "output_type": "stream",
     "text": [
      "{1: {'col2': ('A',), 'col3': ('X',)}, 2: {'col2': ('B', 'C'), 'col3': ('Y', 'Z')}, 3: {'col2': ('D',), 'col3': ('W',)}}\n"
     ]
    }
   ],
   "source": [
    "import pandas as pd\n",
    "\n",
    "# 假设你有一个DataFrame df，其中包含三列 'col1'、'col2'、'col3'\n",
    "data = {'col1': [1, 2, 2, 3],\n",
    "        'col2': ['A', 'B', 'C', 'D'],\n",
    "        'col3': ['X', 'Y', 'Z', 'W']}\n",
    "\n",
    "df = pd.DataFrame(data)\n",
    "\n",
    "# 使用 groupby 和 agg 将 'col2' 和 'col3' 列组合成列表\n",
    "result_dict = df.groupby('col1').agg(lambda x: tuple(x)).to_dict(orient='index')\n",
    "\n",
    "print(result_dict)"
   ]
  }
 ],
 "metadata": {
  "kernelspec": {
   "display_name": "webinfo",
   "language": "python",
   "name": "python3"
  },
  "language_info": {
   "codemirror_mode": {
    "name": "ipython",
    "version": 3
   },
   "file_extension": ".py",
   "mimetype": "text/x-python",
   "name": "python",
   "nbconvert_exporter": "python",
   "pygments_lexer": "ipython3",
   "version": "3.9.18"
  }
 },
 "nbformat": 4,
 "nbformat_minor": 2
}
